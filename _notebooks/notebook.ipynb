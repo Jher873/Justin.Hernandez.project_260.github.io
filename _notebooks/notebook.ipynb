import json

# Create a simple Jupyter Notebook structure
notebook_content = {
    "cells": [
        {
            "cell_type": "markdown",
            "metadata": {},
            "source": ["# My Test Jupyter Notebook\n", "This is a sample Jupyter notebook for testing with Jekyll.\n"]
        },
        {
            "cell_type": "code",
            "execution_count": 1,
            "metadata": {},
            "outputs": [
                {
                    "name": "stdout",
                    "output_type": "stream",
                    "text": ["Hello, Jekyll with Jupyter!\n"]
                }
            ],
            "source": ["print(\"Hello, Jekyll with Jupyter!\")"]
        },
        {
            "cell_type": "code",
            "execution_count": 2,
            "metadata": {},
            "outputs": [
                {
                    "name": "stdout",
                    "output_type": "stream",
                    "text": ["The sum of 5 + 3 is: 8\n"]
                }
            ],
            "source": ["print(\"The sum of 5 + 3 is:\", 5 + 3)"]
        }
    ],
    "metadata": {
        "kernelspec": {
            "display_name": "Python 3",
            "language": "python",
            "name": "python3"
        },
        "language_info": {
            "codemirror_mode": {"name": "ipython", "version": 3},
            "file_extension": ".py",
            "mimetype": "text/x-python",
            "name": "python",
            "nbconvert_exporter": "python",
            "pygments_lexer": "ipython3",
            "version": "3.8.10"
        }
    },
    "nbformat": 4,
    "nbformat_minor": 4
}
